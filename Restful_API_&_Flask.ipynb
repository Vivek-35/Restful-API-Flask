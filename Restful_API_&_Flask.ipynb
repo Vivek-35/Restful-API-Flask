{
  "nbformat": 4,
  "nbformat_minor": 0,
  "metadata": {
    "colab": {
      "provenance": []
    },
    "kernelspec": {
      "name": "python3",
      "display_name": "Python 3"
    },
    "language_info": {
      "name": "python"
    }
  },
  "cells": [
    {
      "cell_type": "markdown",
      "source": [
        "# **Theory Questions**\n",
        "\n",
        "1. What is a RESTful API?\n",
        "   - A RESTful API (Representational State Transfer) is a web service that uses HTTP requests to perform CRUD operations. It follows specific architectural principles, such as statelessness and resource-based communication, making it lightweight and scalable.\n",
        "\n",
        "2. Explain the concept of API specification.\n",
        "   - An API specification defines how clients can interact with an API, including endpoints, request/response formats, parameters, and status codes. It ensures consistency, documentation, and smooth integration for developers using the API.\n",
        "\n",
        "3. What is Flask, and why is it popular for building APIs?\n",
        "   - Flask is a lightweight Python web framework used to build web applications and APIs. It's popular due to its simplicity, flexibility, minimal setup, and large community support, making it great for both beginners and professionals.\n",
        "\n",
        "4. What is routing in Flask?\n",
        "   - Routing in Flask maps URLs to specific functions in your code, which are called view functions. This allows Flask to respond to web requests with appropriate content or actions.\n",
        "\n",
        "5. How do you create a simple Flask application?\n",
        "   - You create a basic Flask app by importing Flask, creating an app instance, defining routes with functions, and running the app. Example:\n"
      ],
      "metadata": {
        "id": "QRQbusoqlpaO"
      }
    },
    {
      "cell_type": "code",
      "source": [
        "from flask import Flask\n",
        "app = Flask(__name__)\n",
        "\n",
        "@app.route('/')\n",
        "def home():\n",
        "    return \"Hello, World!\"\n",
        "\n",
        "app.run()\n"
      ],
      "metadata": {
        "id": "W092SAtYmyGX",
        "colab": {
          "base_uri": "https://localhost:8080/"
        },
        "outputId": "33f7b5b3-7e86-425e-ca90-dabed0578982"
      },
      "execution_count": 1,
      "outputs": [
        {
          "output_type": "stream",
          "name": "stdout",
          "text": [
            " * Serving Flask app '__main__'\n",
            " * Debug mode: off\n"
          ]
        },
        {
          "output_type": "stream",
          "name": "stderr",
          "text": [
            "INFO:werkzeug:\u001b[31m\u001b[1mWARNING: This is a development server. Do not use it in a production deployment. Use a production WSGI server instead.\u001b[0m\n",
            " * Running on http://127.0.0.1:5000\n",
            "INFO:werkzeug:\u001b[33mPress CTRL+C to quit\u001b[0m\n"
          ]
        }
      ]
    },
    {
      "cell_type": "markdown",
      "source": [
        "6. What are HTTP methods used in RESTful APIs?\n",
        "   - Common HTTP methods include:\n",
        "\n",
        "      - GET – retrieve data\n",
        "\n",
        "      - POST – create data\n",
        "\n",
        "      - PUT – update data\n",
        "\n",
        "      - DELETE – remove data\n",
        "\n",
        "      - PATCH – partially update data\n",
        "\n",
        "7. What is the purpose of the @app.route() decorator in Flask?\n",
        "   - The @app.route() decorator binds a URL path to a function, telling Flask what to execute when a specific route is accessed. It enables routing in the application.\n",
        "\n",
        "8. What is the difference between GET and POST HTTP methods?\n",
        "   - GET is used to request data from a server and appends data in the URL.\n",
        "POST sends data to the server to create a new resource and keeps data in the body, making it more secure.\n",
        "\n",
        "9. How do you handle errors in Flask APIs?\n",
        "   - You can handle errors using error handlers or try-except blocks. Flask allows custom error pages or JSON responses for specific status codes using @app.errorhandler().\n",
        "\n",
        "10. How do you connect Flask to a SQL database?\n",
        "    - You connect Flask to a SQL database using libraries like Flask-SQLAlchemy. You configure the database URI and use the ORM features to interact with tables.\n",
        "\n",
        "11. What is the role of Flask-SQLAlchemy?\n",
        "    - Flask-SQLAlchemy integrates SQLAlchemy with Flask, providing an easy way to interact with relational databases using Python classes instead of writing raw SQL.\n",
        "\n",
        "12. What are Flask blueprints, and how are they useful?\n",
        "    - Blueprints allow you to organize Flask apps into modular components. This helps manage large applications by grouping routes and logic into separate, reusable parts.\n",
        "\n",
        "13. What is the purpose of Flask’s request object?\n",
        "    - The request object holds data sent by the client to the server. It includes form data, JSON payloads, query parameters, and headers.\n",
        "\n",
        "14. How do you create a RESTful API endpoint using Flask?\n",
        "    - Define a route with @app.route() and a function to handle requests. You can also use methods like GET, POST, etc., to control behavior based on HTTP method.\n",
        "\n",
        "15. What is the purpose of Flask's jsonify() function?\n",
        "    - jsonify() converts Python dictionaries or lists into JSON responses. It ensures proper content-type headers and formatting for API responses.\n",
        "\n",
        "16. Explain Flask’s url_for() function.\n",
        "    - url_for() generates URLs for routes based on function names. It helps avoid hardcoding URLs and is useful for dynamic linking in templates and redirects.\n",
        "\n",
        "17. How does Flask handle static files (CSS, JavaScript, etc.)?\n",
        "    - Flask serves static files from the /static directory by default. You access them using /static/filename or with url_for('static', filename='...').\n",
        "\n",
        "18. What is an API specification, and how does it help in building a Flask\n",
        "     API?\n",
        "    - An API specification outlines how an API works, including routes, methods, and data structures. It acts as a blueprint, helping developers understand and build consistent, well-documented APIs.\n",
        "\n",
        "19. What are HTTP status codes, and why are they important in a Flask API?\n",
        "    - HTTP status codes indicate the result of a request (e.g., 200 OK, 404 Not Found). They help clients understand if the request was successful or if errors occurred.\n",
        "\n",
        "20. How do you handle POST requests in Flask?\n",
        "    - Handle POST requests by checking the method in the route (methods=['POST']) and using request.form or request.json to access the submitted data.\n",
        "\n",
        "21. How would you secure a Flask API?\n",
        "    - You can secure a Flask API using authentication (e.g., JWT), input validation, HTTPS, rate limiting, and protection against CSRF/XSS attacks.\n",
        "\n",
        "22. What is the significance of the Flask-RESTful extension?\n",
        "    - Flask-RESTful simplifies the process of building REST APIs by providing tools for routing, request parsing, and automatic response formatting using class-based views.\n",
        "\n",
        "23. What is the role of Flask’s session object?\n",
        "    - The session object stores data across requests for a specific user. It uses secure cookies to manage temporary state like login information."
      ],
      "metadata": {
        "id": "UtJHy5GMmm8j"
      }
    },
    {
      "cell_type": "markdown",
      "source": [
        "# **Practical Questions**\n",
        "\n",
        "1. How do you create a basic Flask application?"
      ],
      "metadata": {
        "id": "N2Ek-kCHoHLN"
      }
    },
    {
      "cell_type": "code",
      "source": [
        "from flask import Flask\n",
        "\n",
        "app = Flask(__name__)\n",
        "\n",
        "@app.route('/')\n",
        "def home():\n",
        "    return \"Hello, Flask!\"\n"
      ],
      "metadata": {
        "id": "VMR3FqhRo_RG"
      },
      "execution_count": 3,
      "outputs": []
    },
    {
      "cell_type": "markdown",
      "source": [
        "2. How do you serve static files like images or CSS in Flask?"
      ],
      "metadata": {
        "id": "22UbBpixrTOM"
      }
    },
    {
      "cell_type": "code",
      "source": [
        "from flask import Flask, render_template\n",
        "\n",
        "app = Flask(__name__)\n",
        "\n",
        "@app.route('/')\n",
        "def home():\n",
        "    return '''\n",
        "        <html>\n",
        "        <head><link rel=\"stylesheet\" href=\"/static/style.css\"></head>\n",
        "        <body>\n",
        "            <h1>Hello with Style!</h1>\n",
        "            <img src=\"/static/image.png\" alt=\"My Image\">\n",
        "        </body>\n",
        "        </html>\n",
        "    '''\n"
      ],
      "metadata": {
        "id": "_S_rSEOMrXnN"
      },
      "execution_count": 4,
      "outputs": []
    },
    {
      "cell_type": "markdown",
      "source": [
        "3. How do you define different routes with different HTTP methods in Flask?"
      ],
      "metadata": {
        "id": "Sb3ty3nHzHaL"
      }
    },
    {
      "cell_type": "code",
      "source": [
        "from flask import Flask, request\n",
        "\n",
        "app = Flask(__name__)\n",
        "\n",
        "@app.route('/submit', methods=['GET', 'POST'])\n",
        "def submit():\n",
        "    if request.method == 'POST':\n",
        "        return \"Posted data!\"\n",
        "    else:\n",
        "        return \"Send a POST request.\"\n"
      ],
      "metadata": {
        "id": "uZqmvCO7zIJN"
      },
      "execution_count": 6,
      "outputs": []
    },
    {
      "cell_type": "markdown",
      "source": [
        "4. How do you render HTML templates in Flask?"
      ],
      "metadata": {
        "id": "D7NO5jcGzLoN"
      }
    },
    {
      "cell_type": "code",
      "source": [
        "from flask import Flask, render_template\n",
        "\n",
        "app = Flask(__name__)\n",
        "\n",
        "@app.route('/')\n",
        "def home():\n",
        "    return render_template('index.html', name=\"Rambo\")\n"
      ],
      "metadata": {
        "id": "1W5lX5oezZWe"
      },
      "execution_count": 7,
      "outputs": []
    },
    {
      "cell_type": "markdown",
      "source": [
        "5. How can you generate URLs for routes in Flask using url_for?"
      ],
      "metadata": {
        "id": "GQGZlRCTzkrC"
      }
    },
    {
      "cell_type": "code",
      "source": [
        "from flask import Flask, url_for\n",
        "\n",
        "app = Flask(__name__)\n",
        "\n",
        "@app.route('/')\n",
        "def index():\n",
        "    return f\"Go to <a href='{url_for('profile')}'>Profile</a>\"\n",
        "\n",
        "@app.route('/profile')\n",
        "def profile():\n",
        "    return \"Welcome to your profile!\"\n"
      ],
      "metadata": {
        "id": "i0dTjGBtzjb1"
      },
      "execution_count": 8,
      "outputs": []
    },
    {
      "cell_type": "markdown",
      "source": [
        "6. How do you handle forms in Flask?"
      ],
      "metadata": {
        "id": "GnizZLuVz4fB"
      }
    },
    {
      "cell_type": "code",
      "source": [
        "from flask import Flask, request, render_template\n",
        "\n",
        "app = Flask(__name__)\n",
        "\n",
        "@app.route('/form', methods=['GET', 'POST'])\n",
        "def form():\n",
        "    if request.method == 'POST':\n",
        "        name = request.form['username']\n",
        "        return f\"Hello, {name}!\"\n",
        "    return render_template('form.html')\n"
      ],
      "metadata": {
        "id": "AIjavnwaz5B3"
      },
      "execution_count": 9,
      "outputs": []
    },
    {
      "cell_type": "markdown",
      "source": [
        "7. How can you validate form data in Flask?"
      ],
      "metadata": {
        "id": "xBzrnwR5z_yw"
      }
    },
    {
      "cell_type": "code",
      "source": [
        "@app.route('/validate', methods=['POST', 'GET'])\n",
        "def validate():\n",
        "    if request.method == 'POST':\n",
        "        name = request.form['username']\n",
        "        if not name:\n",
        "            return \"Name is required!\"\n",
        "        return f\"Hello, {name}!\"\n",
        "    return '''\n",
        "        <form method=\"POST\">\n",
        "            Name: <input type=\"text\" name=\"username\">\n",
        "            <input type=\"submit\">\n",
        "        </form>\n",
        "    '''\n"
      ],
      "metadata": {
        "id": "JdQZzLZi0CT5"
      },
      "execution_count": 10,
      "outputs": []
    },
    {
      "cell_type": "markdown",
      "source": [
        "8. How do you manage sessions in Flask?"
      ],
      "metadata": {
        "id": "4QGuxdrR0FSn"
      }
    },
    {
      "cell_type": "code",
      "source": [
        "from flask import Flask, session, redirect, url_for, request\n",
        "\n",
        "app = Flask(__name__)\n",
        "app.secret_key = 'secret'  # Required for sessions\n",
        "\n",
        "@app.route('/login', methods=['POST', 'GET'])\n",
        "def login():\n",
        "    if request.method == 'POST':\n",
        "        session['user'] = request.form['username']\n",
        "        return redirect(url_for('profile'))\n",
        "    return '''\n",
        "        <form method=\"POST\">\n",
        "            Username: <input type=\"text\" name=\"username\">\n",
        "            <input type=\"submit\">\n",
        "        </form>\n",
        "    '''\n",
        "\n",
        "@app.route('/profile')\n",
        "def profile():\n",
        "    user = session.get('user')\n",
        "    return f'Logged in as {user}' if user else 'Not logged in'\n"
      ],
      "metadata": {
        "id": "cSdTjy0I0IFJ"
      },
      "execution_count": 11,
      "outputs": []
    },
    {
      "cell_type": "markdown",
      "source": [
        "9. How do you redirect to a different route in Flask?"
      ],
      "metadata": {
        "id": "99y1zB5v0LGh"
      }
    },
    {
      "cell_type": "code",
      "source": [
        "from flask import Flask, redirect, url_for\n",
        "\n",
        "app = Flask(__name__)\n",
        "\n",
        "@app.route('/')\n",
        "def home():\n",
        "    return redirect(url_for('hello'))\n",
        "\n",
        "@app.route('/hello')\n",
        "def hello():\n",
        "    return \"Redirected to Hello!\"\n"
      ],
      "metadata": {
        "id": "hAlxjhbj0Og1"
      },
      "execution_count": 12,
      "outputs": []
    },
    {
      "cell_type": "markdown",
      "source": [
        "10. How do you handle errors in Flask (e.g., 404)?"
      ],
      "metadata": {
        "id": "i6EM7LnW0RrT"
      }
    },
    {
      "cell_type": "code",
      "source": [
        "from flask import Flask\n",
        "\n",
        "app = Flask(__name__)\n",
        "\n",
        "@app.errorhandler(404)\n",
        "def page_not_found(e):\n",
        "    return \"Sorry, page not found!\", 404\n"
      ],
      "metadata": {
        "id": "hX1unHuD0VYx"
      },
      "execution_count": 13,
      "outputs": []
    },
    {
      "cell_type": "markdown",
      "source": [
        "11. How do you structure a Flask app using Blueprints?"
      ],
      "metadata": {
        "id": "rFmsJa4d0X6R"
      }
    },
    {
      "cell_type": "code",
      "source": [
        "from flask import Blueprint\n",
        "\n",
        "bp = Blueprint('main', __name__)\n",
        "\n",
        "@bp.route('/')\n",
        "def home():\n",
        "    return \"Home from Blueprint\"\n"
      ],
      "metadata": {
        "id": "QqgaTvvD0b0Y"
      },
      "execution_count": 14,
      "outputs": []
    },
    {
      "cell_type": "markdown",
      "source": [
        "12. How do you define a custom Jinja filter in Flask?"
      ],
      "metadata": {
        "id": "rf7rn-R70jaO"
      }
    },
    {
      "cell_type": "code",
      "source": [
        "from flask import Flask, render_template_string\n",
        "\n",
        "app = Flask(__name__)\n",
        "\n",
        "# Custom filter\n",
        "@app.template_filter('reverse')\n",
        "def reverse_string(s):\n",
        "    return s[::-1]\n",
        "\n",
        "@app.route('/')\n",
        "def home():\n",
        "    return render_template_string(\"{{ 'Flask' | reverse }}\")\n"
      ],
      "metadata": {
        "id": "wXHRBMmT0nuh"
      },
      "execution_count": 15,
      "outputs": []
    },
    {
      "cell_type": "markdown",
      "source": [
        "13. How can you redirect with query parameters in Flask?"
      ],
      "metadata": {
        "id": "wbaRG33r0rul"
      }
    },
    {
      "cell_type": "code",
      "source": [
        "from flask import Flask, redirect, url_for, request\n",
        "\n",
        "app = Flask(__name__)\n",
        "\n",
        "@app.route('/')\n",
        "def home():\n",
        "    return redirect(url_for('greet', name='Rambo'))\n",
        "\n",
        "@app.route('/greet')\n",
        "def greet():\n",
        "    name = request.args.get('name', 'Guest')\n",
        "    return f\"Hello, {name}!\"\n"
      ],
      "metadata": {
        "id": "eLKr_UbB0uTw"
      },
      "execution_count": 16,
      "outputs": []
    },
    {
      "cell_type": "markdown",
      "source": [
        "14. How do you return JSON responses in Flask?"
      ],
      "metadata": {
        "id": "M9ZDBa8U0xHH"
      }
    },
    {
      "cell_type": "code",
      "source": [
        "from flask import Flask, jsonify\n",
        "\n",
        "app = Flask(__name__)\n",
        "\n",
        "@app.route('/api/data')\n",
        "def data():\n",
        "    return jsonify(name='Rambo', role='Developer')\n"
      ],
      "metadata": {
        "id": "t6xgHGvY0ztS"
      },
      "execution_count": 17,
      "outputs": []
    },
    {
      "cell_type": "markdown",
      "source": [
        "15. How do you capture URL parameters in Flask?"
      ],
      "metadata": {
        "id": "z4Qe6RNs03pL"
      }
    },
    {
      "cell_type": "code",
      "source": [
        "from flask import Flask\n",
        "\n",
        "app = Flask(__name__)\n",
        "\n",
        "@app.route('/user/<username>')\n",
        "def profile(username):\n",
        "    return f\"User: {username}\"\n"
      ],
      "metadata": {
        "id": "ngn0I_cF05qx"
      },
      "execution_count": 18,
      "outputs": []
    }
  ]
}